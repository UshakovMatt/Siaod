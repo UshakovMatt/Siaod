{
 "cells": [
  {
   "cell_type": "markdown",
   "id": "arctic-stocks",
   "metadata": {},
   "source": [
    "### Задание №1\n",
    "Массив A состоит из целых положительных чисел длин отрезков. Составьте из трех отрезков такой треугольник, чтобы его периметр был максимально возможным. Если невозможно составить треугольник с положительной площадью функция возвращает 0."
   ]
  },
  {
   "cell_type": "code",
   "execution_count": 2,
   "id": "caring-truck",
   "metadata": {
    "scrolled": false
   },
   "outputs": [
    {
     "name": "stdout",
     "output_type": "stream",
     "text": [
      "[3, 10, 12, 45, 66]\n",
      "3 10 12\n",
      "25\n",
      "[3, 5, 8, 11, 12]\n",
      "8 11 12\n",
      "31\n"
     ]
    }
   ],
   "source": [
    "def triangle(a, b, c):\n",
    "    if a + b > c: return True\n",
    "\n",
    "def max_perimeter(a):\n",
    "    a.sort()\n",
    "    print(a)\n",
    "    i = len(a) - 1\n",
    "    for _ in range(len(a) - 2):\n",
    "        if triangle(a[i - 2], a[i - 1], a[i]):\n",
    "            print(a[i - 2], a[i - 1], a[i])\n",
    "            return a[i - 2] + a[i - 1] + a[i]\n",
    "        i -= 1\n",
    "    return 0\n",
    "\n",
    "\n",
    "print(max_perimeter([12, 66, 45, 3, 10]))\n",
    "print(max_perimeter([11,12,8,3,5]))"
   ]
  },
  {
   "cell_type": "markdown",
   "id": "maritime-conversation",
   "metadata": {},
   "source": [
    "### Задание №2\n",
    "Дан массив неотрицательных целых чисел nums. Расположите их в таком порядке, чтобы вместе они образовали максимально возможное число. Замечание: Результат может быть очень большим числом, поэтому представьте его как string, а не integer."
   ]
  },
  {
   "cell_type": "code",
   "execution_count": 3,
   "id": "alert-charm",
   "metadata": {
    "scrolled": false
   },
   "outputs": [
    {
     "name": "stdout",
     "output_type": "stream",
     "text": [
      "array: [13, 41, 21, 6]\n",
      "sorted array: [41, 21, 13, 6]\n",
      "4121136\n"
     ]
    }
   ],
   "source": [
    "def join_array(a):\n",
    "    print(f'array: {a}')\n",
    "    a.sort(reverse=True)\n",
    "    print(f'sorted array: {a}')\n",
    "    return ''.join(str(i) for i in a)\n",
    "\n",
    "print(join_array([13, 41, 21, 6]))"
   ]
  },
  {
   "cell_type": "markdown",
   "id": "catholic-roots",
   "metadata": {},
   "source": [
    "### Задание №3\n",
    "Дана матрица mat размером m * n, значения целочисленные. Напишите функцию, сортирующую каждую диагональ матрицы по возрастанию и возвращающую получившуюся матрицу."
   ]
  },
  {
   "cell_type": "code",
   "execution_count": 4,
   "id": "cleared-anniversary",
   "metadata": {
    "scrolled": false
   },
   "outputs": [
    {
     "name": "stdout",
     "output_type": "stream",
     "text": [
      "[872, 719, 478]\n",
      "[499, 638, 607]\n",
      "[757, 735, 355]\n",
      "[672, 793, 574]\n",
      "[122, 737, 785]\n",
      "\n",
      "[872, 719, 757]\n",
      "[499, 638, 735]\n",
      "[478, 672, 793]\n",
      "[607, 355, 737]\n",
      "[122, 574, 785]\n"
     ]
    }
   ],
   "source": [
    "from random import randint\n",
    "n = 5\n",
    "m = 3\n",
    "a = [[randint(100, 999) for _ in range(m)] for _ in range(n)]\n",
    "\n",
    "def diag(mas):\n",
    "    for i in range(n):\n",
    "        print(mas[i])\n",
    "    arr = [[] for i in range(m + n - 1)]\n",
    "    for i in range(n):\n",
    "        for j in range(m):\n",
    "            arr[i + j].append(mas[i][j])\n",
    "            if j == 0:\n",
    "                arr[i] = sorted(arr[i])\n",
    "            if j > 0 and i == n - 1:\n",
    "                arr[i + j] = sorted(arr[i + j])\n",
    "    print()\n",
    "    k = 0\n",
    "    for i in range(n):\n",
    "        for j in range(m):\n",
    "            if i + j > m - 1:\n",
    "                k = i + j - m + 1\n",
    "            mas[i][j] = arr[i + j][len(arr[i + j]) - 1 - i + k]\n",
    "        k = 0\n",
    "        print(mas[i])\n",
    "\n",
    "diag(a)"
   ]
  }
 ],
 "metadata": {
  "kernelspec": {
   "display_name": "Python 3",
   "language": "python",
   "name": "python3"
  },
  "language_info": {
   "codemirror_mode": {
    "name": "ipython",
    "version": 3
   },
   "file_extension": ".py",
   "mimetype": "text/x-python",
   "name": "python",
   "nbconvert_exporter": "python",
   "pygments_lexer": "ipython3",
   "version": "3.8.8"
  }
 },
 "nbformat": 4,
 "nbformat_minor": 5
}
